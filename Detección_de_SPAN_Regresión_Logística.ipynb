{
  "nbformat": 4,
  "nbformat_minor": 0,
  "metadata": {
    "colab": {
      "provenance": [],
      "toc_visible": true,
      "authorship_tag": "ABX9TyPJIojcnLhCrVnXgNRsHaar",
      "include_colab_link": true
    },
    "kernelspec": {
      "name": "python3",
      "display_name": "Python 3"
    },
    "language_info": {
      "name": "python"
    }
  },
  "cells": [
    {
      "cell_type": "markdown",
      "metadata": {
        "id": "view-in-github",
        "colab_type": "text"
      },
      "source": [
        "<a href=\"https://colab.research.google.com/github/YakiVS/Proyectos-pr-cticos---Machine-Learning/blob/main/Detecci%C3%B3n_de_SPAN_Regresi%C3%B3n_Log%C3%ADstica.ipynb\" target=\"_parent\"><img src=\"https://colab.research.google.com/assets/colab-badge.svg\" alt=\"Open In Colab\"/></a>"
      ]
    },
    {
      "cell_type": "markdown",
      "source": [
        "# Funciones para limpiar los correos electronicos para conseguir formatos limpios y estructurados"
      ],
      "metadata": {
        "id": "GCyXFmfK3IVR"
      }
    },
    {
      "cell_type": "code",
      "execution_count": 127,
      "metadata": {
        "id": "AmTj3L1PklG8"
      },
      "outputs": [],
      "source": [
        "# Clase que facilita el procesamiento de correos electrónicos que continen código HMTL\n",
        "from html.parser import HTMLParser"
      ]
    },
    {
      "cell_type": "code",
      "source": [
        "class MLStripper(HTMLParser):\n",
        "  def __init__(self):\n",
        "    self.reset()\n",
        "    self.strict=False\n",
        "    self.convert_charrefs=True\n",
        "    self.fed=[]\n",
        "\n",
        "  def handle_data(self, d):\n",
        "    self.fed.append(d)\n",
        "\n",
        "  def get_data(self):\n",
        "    return ''.join(self.fed)\n"
      ],
      "metadata": {
        "id": "Bo8TXAZ84Uki"
      },
      "execution_count": 128,
      "outputs": []
    },
    {
      "cell_type": "code",
      "source": [
        "# En esta función se eliminan los Tags HTML de los correos electrónicos\n",
        "def strip_tags(html):\n",
        "  s=MLStripper()\n",
        "  s.feed(html)\n",
        "  return s.get_data()"
      ],
      "metadata": {
        "id": "tbXWx0275Tze"
      },
      "execution_count": 129,
      "outputs": []
    },
    {
      "cell_type": "code",
      "source": [
        "# Formas como se elimnan los tags\n",
        "t = '<tr><td align=\"left\"><a href=\"../../issues/51/16.html#article\">Phrack World News</a></td>'\n",
        "strip_tags(t)"
      ],
      "metadata": {
        "colab": {
          "base_uri": "https://localhost:8080/",
          "height": 36
        },
        "id": "vPhwjGYg5wCf",
        "outputId": "f78bbd4a-7257-4175-c613-b5f495d4afb6"
      },
      "execution_count": 130,
      "outputs": [
        {
          "output_type": "execute_result",
          "data": {
            "text/plain": [
              "'Phrack World News'"
            ],
            "application/vnd.google.colaboratory.intrinsic+json": {
              "type": "string"
            }
          },
          "metadata": {},
          "execution_count": 130
        }
      ]
    },
    {
      "cell_type": "markdown",
      "source": [
        "# Proceso de Steaming"
      ],
      "metadata": {
        "id": "H8r-6y8ZHymp"
      }
    },
    {
      "cell_type": "code",
      "source": [
        "import email\n",
        "import string\n",
        "import nltk\n",
        "\n",
        "class Parser:\n",
        "  def __init__(self) :\n",
        "    self.stemmer=nltk.PorterStemmer()\n",
        "    self.stopwords=set(nltk.corpus.stopwords.words('english'))\n",
        "    self.punctuation=list(string.punctuation)\n",
        "\n",
        "  def parse(self, email_path):\n",
        "    \"\"\"Parse an email\"\"\"\n",
        "    with open(email_path, errors='ignore') as e:\n",
        "      msg=email.message_from_file(e)\n",
        "    return None if not msg else self.get_email_content(msg)\n",
        "\n",
        "  def get_email_content(self,msg):\n",
        "    \"\"\"Etract the email content.\"\"\"\n",
        "    subject=self.tokenize(msg['Subject']) if msg['Subject'] else []\n",
        "    body=self.get_email_body(msg.get_payload(),\n",
        "                             msg.get_content_type())\n",
        "    content_type=msg.get_content_type()\n",
        "\n",
        "    # Returning the content of the email\n",
        "    return {\n",
        "        \"subject\":subject,\n",
        "        \"body\":body,\n",
        "        \"content_type\":content_type\n",
        "    }\n",
        "  def get_email_body(self, payload, content_type):\n",
        "        \"\"\"Extract the body of the email.\"\"\"\n",
        "        body = []\n",
        "        if type(payload) is str and content_type == 'text/plain':\n",
        "            return self.tokenize(payload)\n",
        "        elif type(payload) is str and content_type == 'text/html':\n",
        "            return self.tokenize(strip_tags(payload))\n",
        "        elif type(payload) is list:\n",
        "            for p in payload:\n",
        "                body += self.get_email_body(p.get_payload(),\n",
        "                                            p.get_content_type())\n",
        "        return body\n",
        "\n",
        "  def tokenize(self,text):\n",
        "    for c in self.punctuation:\n",
        "      text=text.replace(c,\"\")\n",
        "    text=text.replace(\"\\t\",\" \")\n",
        "    text=text.replace(\"\\n\",\" \")\n",
        "    tokens=list(filter(None, text.split(\" \")))\n",
        "\n",
        "    # Steaming of the tokens\n",
        "    return [self.stemmer.stem(w) for w in tokens if w not in self.stopwords]"
      ],
      "metadata": {
        "id": "0f5UYmlDAe7D"
      },
      "execution_count": 131,
      "outputs": []
    },
    {
      "cell_type": "markdown",
      "source": [
        "# Lectura de un correo en formato raw"
      ],
      "metadata": {
        "id": "yq8NVlgAP0M7"
      }
    },
    {
      "cell_type": "code",
      "source": [
        "inmail = open(\"/content/data/inmail.1\").read()\n",
        "print(inmail)"
      ],
      "metadata": {
        "colab": {
          "base_uri": "https://localhost:8080/"
        },
        "collapsed": true,
        "id": "HH8IC0ySPx7k",
        "outputId": "68025e49-e4e7-4766-8d92-3d4d762fe861"
      },
      "execution_count": 132,
      "outputs": [
        {
          "output_type": "stream",
          "name": "stdout",
          "text": [
            "From RickyAmes@aol.com  Sun Apr  8 13:07:32 2007\n",
            "Return-Path: <RickyAmes@aol.com>\n",
            "Received: from 129.97.78.23 ([211.202.101.74])\n",
            "\tby speedy.uwaterloo.ca (8.12.8/8.12.5) with SMTP id l38H7G0I003017;\n",
            "\tSun, 8 Apr 2007 13:07:21 -0400\n",
            "Received: from 0.144.152.6 by 211.202.101.74; Sun, 08 Apr 2007 19:04:48 +0100\n",
            "Message-ID: <WYADCKPDFWWTWTXNFVUE@yahoo.com>\n",
            "From: \"Tomas Jacobs\" <RickyAmes@aol.com>\n",
            "Reply-To: \"Tomas Jacobs\" <RickyAmes@aol.com>\n",
            "To: the00@speedy.uwaterloo.ca\n",
            "Subject: Generic Cialis, branded quality@ \n",
            "Date: Sun, 08 Apr 2007 21:00:48 +0300\n",
            "X-Mailer: Microsoft Outlook Express 6.00.2600.0000\n",
            "MIME-Version: 1.0\n",
            "Content-Type: multipart/alternative;\n",
            "\tboundary=\"--8896484051606557286\"\n",
            "X-Priority: 3\n",
            "X-MSMail-Priority: Normal\n",
            "Status: RO\n",
            "Content-Length: 988\n",
            "Lines: 24\n",
            "\n",
            "----8896484051606557286\n",
            "Content-Type: text/html;\n",
            "Content-Transfer-Encoding: 7Bit\n",
            "\n",
            "<html>\n",
            "<body bgcolor=\"#ffffff\">\n",
            "<div style=\"border-color: #00FFFF; border-right-width: 0px; border-bottom-width: 0px; margin-bottom: 0px;\" align=\"center\">\n",
            "<table style=\"border: 1px; border-style: solid; border-color:#000000;\" cellpadding=\"5\" cellspacing=\"0\" bgcolor=\"#CCFFAA\">\n",
            "<tr>\n",
            "<td style=\"border: 0px; border-bottom: 1px; border-style: solid; border-color:#000000;\">\n",
            "<center>\n",
            "Do you feel the pressure to perform and not rising to the occasion??<br>\n",
            "</center>\n",
            "</td></tr><tr>\n",
            "<td bgcolor=#FFFF33 style=\"border: 0px; border-bottom: 1px; border-style: solid; border-color:#000000;\">\n",
            "<center>\n",
            "\n",
            "<b><a href='http://excoriationtuh.com/?lzmfnrdkleks'>Try <span>V</span><span>ia<span></span>gr<span>a</span>.....</a></b></center>\n",
            "</td></tr><td><center>your anxiety will be a thing of the past and you will<br>\n",
            "be back to your old self.\n",
            "</center></td></tr></table></div></body></html>\n",
            "\n",
            "\n",
            "----8896484051606557286--\n",
            "\n",
            "\n"
          ]
        }
      ]
    },
    {
      "cell_type": "markdown",
      "source": [
        "# Parsing del correo electrónico"
      ],
      "metadata": {
        "id": "IFTw1XQWQw-9"
      }
    },
    {
      "cell_type": "code",
      "source": [
        "import nltk\n",
        "nltk.download('stopwords')\n"
      ],
      "metadata": {
        "colab": {
          "base_uri": "https://localhost:8080/"
        },
        "id": "katL3fGAQu5E",
        "outputId": "6df23f65-9175-4cf9-9f96-7dbbe9a5d4dc"
      },
      "execution_count": 133,
      "outputs": [
        {
          "output_type": "stream",
          "name": "stderr",
          "text": [
            "[nltk_data] Downloading package stopwords to /root/nltk_data...\n",
            "[nltk_data]   Package stopwords is already up-to-date!\n"
          ]
        },
        {
          "output_type": "execute_result",
          "data": {
            "text/plain": [
              "True"
            ]
          },
          "metadata": {},
          "execution_count": 133
        }
      ]
    },
    {
      "cell_type": "code",
      "source": [
        "p = Parser()\n",
        "p.parse(\"/content/data/inmail.1\")"
      ],
      "metadata": {
        "colab": {
          "base_uri": "https://localhost:8080/"
        },
        "id": "IjvnvxUtRAgJ",
        "outputId": "b53be485-fbe4-4398-b8b9-3962707f1ce2"
      },
      "execution_count": 134,
      "outputs": [
        {
          "output_type": "execute_result",
          "data": {
            "text/plain": [
              "{'subject': ['gener', 'ciali', 'brand', 'qualiti'],\n",
              " 'body': ['do',\n",
              "  'feel',\n",
              "  'pressur',\n",
              "  'perform',\n",
              "  'rise',\n",
              "  'occas',\n",
              "  'tri',\n",
              "  'viagra',\n",
              "  'anxieti',\n",
              "  'thing',\n",
              "  'past',\n",
              "  'back',\n",
              "  'old',\n",
              "  'self'],\n",
              " 'content_type': 'multipart/alternative'}"
            ]
          },
          "metadata": {},
          "execution_count": 134
        }
      ]
    },
    {
      "cell_type": "markdown",
      "source": [
        "# Lectura del índice"
      ],
      "metadata": {
        "id": "KnGn2bSfQ9X3"
      }
    },
    {
      "cell_type": "code",
      "source": [
        "index=open(\"/content/data/inmail.1\").readlines()\n",
        "index"
      ],
      "metadata": {
        "colab": {
          "base_uri": "https://localhost:8080/"
        },
        "collapsed": true,
        "id": "lhd7Vgk95trH",
        "outputId": "de363e7d-d75d-44d7-9504-c7e617678371"
      },
      "execution_count": 135,
      "outputs": [
        {
          "output_type": "execute_result",
          "data": {
            "text/plain": [
              "['From RickyAmes@aol.com  Sun Apr  8 13:07:32 2007\\n',\n",
              " 'Return-Path: <RickyAmes@aol.com>\\n',\n",
              " 'Received: from 129.97.78.23 ([211.202.101.74])\\n',\n",
              " '\\tby speedy.uwaterloo.ca (8.12.8/8.12.5) with SMTP id l38H7G0I003017;\\n',\n",
              " '\\tSun, 8 Apr 2007 13:07:21 -0400\\n',\n",
              " 'Received: from 0.144.152.6 by 211.202.101.74; Sun, 08 Apr 2007 19:04:48 +0100\\n',\n",
              " 'Message-ID: <WYADCKPDFWWTWTXNFVUE@yahoo.com>\\n',\n",
              " 'From: \"Tomas Jacobs\" <RickyAmes@aol.com>\\n',\n",
              " 'Reply-To: \"Tomas Jacobs\" <RickyAmes@aol.com>\\n',\n",
              " 'To: the00@speedy.uwaterloo.ca\\n',\n",
              " 'Subject: Generic Cialis, branded quality@ \\n',\n",
              " 'Date: Sun, 08 Apr 2007 21:00:48 +0300\\n',\n",
              " 'X-Mailer: Microsoft Outlook Express 6.00.2600.0000\\n',\n",
              " 'MIME-Version: 1.0\\n',\n",
              " 'Content-Type: multipart/alternative;\\n',\n",
              " '\\tboundary=\"--8896484051606557286\"\\n',\n",
              " 'X-Priority: 3\\n',\n",
              " 'X-MSMail-Priority: Normal\\n',\n",
              " 'Status: RO\\n',\n",
              " 'Content-Length: 988\\n',\n",
              " 'Lines: 24\\n',\n",
              " '\\n',\n",
              " '----8896484051606557286\\n',\n",
              " 'Content-Type: text/html;\\n',\n",
              " 'Content-Transfer-Encoding: 7Bit\\n',\n",
              " '\\n',\n",
              " '<html>\\n',\n",
              " '<body bgcolor=\"#ffffff\">\\n',\n",
              " '<div style=\"border-color: #00FFFF; border-right-width: 0px; border-bottom-width: 0px; margin-bottom: 0px;\" align=\"center\">\\n',\n",
              " '<table style=\"border: 1px; border-style: solid; border-color:#000000;\" cellpadding=\"5\" cellspacing=\"0\" bgcolor=\"#CCFFAA\">\\n',\n",
              " '<tr>\\n',\n",
              " '<td style=\"border: 0px; border-bottom: 1px; border-style: solid; border-color:#000000;\">\\n',\n",
              " '<center>\\n',\n",
              " 'Do you feel the pressure to perform and not rising to the occasion??<br>\\n',\n",
              " '</center>\\n',\n",
              " '</td></tr><tr>\\n',\n",
              " '<td bgcolor=#FFFF33 style=\"border: 0px; border-bottom: 1px; border-style: solid; border-color:#000000;\">\\n',\n",
              " '<center>\\n',\n",
              " '\\n',\n",
              " \"<b><a href='http://excoriationtuh.com/?lzmfnrdkleks'>Try <span>V</span><span>ia<span></span>gr<span>a</span>.....</a></b></center>\\n\",\n",
              " '</td></tr><td><center>your anxiety will be a thing of the past and you will<br>\\n',\n",
              " 'be back to your old self.\\n',\n",
              " '</center></td></tr></table></div></body></html>\\n',\n",
              " '\\n',\n",
              " '\\n',\n",
              " '----8896484051606557286--\\n',\n",
              " '\\n']"
            ]
          },
          "metadata": {},
          "execution_count": 135
        }
      ]
    },
    {
      "cell_type": "code",
      "source": [
        "def parse_index(path_to_index, n_elements):\n",
        "  ret_indexes = []\n",
        "  index = open(path_to_index).readlines()\n",
        "  for i in range(n_elements):\n",
        "    mail=index[i].split('../')\n",
        "    label=mail[0]\n",
        "    path=mail[1][:-1]\n",
        "    ret_indexes.append({'label':label, 'email_path':path})\n",
        "  return ret_indexes"
      ],
      "metadata": {
        "id": "vEnNIjGa6NbL"
      },
      "execution_count": 136,
      "outputs": []
    },
    {
      "cell_type": "code",
      "source": [
        "def parse_email(index):\n",
        "  p=Parser()\n",
        "  pmail=p.parse(index['email_path'])\n",
        "  return pmail,index['label']"
      ],
      "metadata": {
        "id": "fUMOjbYU7q-O"
      },
      "execution_count": 137,
      "outputs": []
    },
    {
      "cell_type": "code",
      "source": [
        "indexes = parse_index(\"/content/data/index\",10)\n",
        "indexes"
      ],
      "metadata": {
        "colab": {
          "base_uri": "https://localhost:8080/"
        },
        "id": "Nt-TBVmg7__K",
        "outputId": "64d65be4-0e3b-44c1-bf00-fbe7e51ca428"
      },
      "execution_count": 138,
      "outputs": [
        {
          "output_type": "execute_result",
          "data": {
            "text/plain": [
              "[{'label': 'spam ', 'email_path': 'data/inmail.1'},\n",
              " {'label': 'ham ', 'email_path': 'data/inmail.2'},\n",
              " {'label': 'spam ', 'email_path': 'data/inmail.3'},\n",
              " {'label': 'spam ', 'email_path': 'data/inmail.4'},\n",
              " {'label': 'spam ', 'email_path': 'data/inmail.5'},\n",
              " {'label': 'spam ', 'email_path': 'data/inmail.6'},\n",
              " {'label': 'spam ', 'email_path': 'data/inmail.7'},\n",
              " {'label': 'spam ', 'email_path': 'data/inmail.8'},\n",
              " {'label': 'spam ', 'email_path': 'data/inmail.9'},\n",
              " {'label': 'ham ', 'email_path': 'data/inmail.10'}]"
            ]
          },
          "metadata": {},
          "execution_count": 138
        }
      ]
    },
    {
      "cell_type": "markdown",
      "source": [
        "# Procesamiento de todo el conjunto de datos"
      ],
      "metadata": {
        "id": "4sPYN9bI8Q0A"
      }
    },
    {
      "cell_type": "code",
      "source": [
        "# cargamos el índice y las etiquetas en memoria\n",
        "index=parse_index('/content/data/index',1)"
      ],
      "metadata": {
        "id": "N87IdQLg8Tlo"
      },
      "execution_count": 139,
      "outputs": []
    },
    {
      "cell_type": "code",
      "source": [
        "# Leemos el primer correo\n",
        "import os\n",
        "\n",
        "open(index[0][\"email_path\"]).read()"
      ],
      "metadata": {
        "colab": {
          "base_uri": "https://localhost:8080/",
          "height": 140
        },
        "id": "lbev6e4o_l7P",
        "outputId": "d4c6a9fa-85df-4b19-b1da-b0f92190268d"
      },
      "execution_count": 140,
      "outputs": [
        {
          "output_type": "execute_result",
          "data": {
            "text/plain": [
              "'From RickyAmes@aol.com  Sun Apr  8 13:07:32 2007\\nReturn-Path: <RickyAmes@aol.com>\\nReceived: from 129.97.78.23 ([211.202.101.74])\\n\\tby speedy.uwaterloo.ca (8.12.8/8.12.5) with SMTP id l38H7G0I003017;\\n\\tSun, 8 Apr 2007 13:07:21 -0400\\nReceived: from 0.144.152.6 by 211.202.101.74; Sun, 08 Apr 2007 19:04:48 +0100\\nMessage-ID: <WYADCKPDFWWTWTXNFVUE@yahoo.com>\\nFrom: \"Tomas Jacobs\" <RickyAmes@aol.com>\\nReply-To: \"Tomas Jacobs\" <RickyAmes@aol.com>\\nTo: the00@speedy.uwaterloo.ca\\nSubject: Generic Cialis, branded quality@ \\nDate: Sun, 08 Apr 2007 21:00:48 +0300\\nX-Mailer: Microsoft Outlook Express 6.00.2600.0000\\nMIME-Version: 1.0\\nContent-Type: multipart/alternative;\\n\\tboundary=\"--8896484051606557286\"\\nX-Priority: 3\\nX-MSMail-Priority: Normal\\nStatus: RO\\nContent-Length: 988\\nLines: 24\\n\\n----8896484051606557286\\nContent-Type: text/html;\\nContent-Transfer-Encoding: 7Bit\\n\\n<html>\\n<body bgcolor=\"#ffffff\">\\n<div style=\"border-color: #00FFFF; border-right-width: 0px; border-bottom-width: 0px; margin-bottom: 0px;\" align=\"center\">\\n<table style=\"border: 1px; border-style: solid; border-color:#000000;\" cellpadding=\"5\" cellspacing=\"0\" bgcolor=\"#CCFFAA\">\\n<tr>\\n<td style=\"border: 0px; border-bottom: 1px; border-style: solid; border-color:#000000;\">\\n<center>\\nDo you feel the pressure to perform and not rising to the occasion??<br>\\n</center>\\n</td></tr><tr>\\n<td bgcolor=#FFFF33 style=\"border: 0px; border-bottom: 1px; border-style: solid; border-color:#000000;\">\\n<center>\\n\\n<b><a href=\\'http://excoriationtuh.com/?lzmfnrdkleks\\'>Try <span>V</span><span>ia<span></span>gr<span>a</span>.....</a></b></center>\\n</td></tr><td><center>your anxiety will be a thing of the past and you will<br>\\nbe back to your old self.\\n</center></td></tr></table></div></body></html>\\n\\n\\n----8896484051606557286--\\n\\n'"
            ],
            "application/vnd.google.colaboratory.intrinsic+json": {
              "type": "string"
            }
          },
          "metadata": {},
          "execution_count": 140
        }
      ]
    },
    {
      "cell_type": "code",
      "source": [
        "# Parseamos el primer correo\n",
        "mail, label = parse_email(index[0])\n",
        "print(\"El correo es:\", label)\n",
        "print(mail)"
      ],
      "metadata": {
        "colab": {
          "base_uri": "https://localhost:8080/"
        },
        "id": "fIlRv0bx8f5A",
        "outputId": "0ebec54a-f231-4d4a-cd59-7b5bc6d85a91"
      },
      "execution_count": 141,
      "outputs": [
        {
          "output_type": "stream",
          "name": "stdout",
          "text": [
            "El correo es: spam \n",
            "{'subject': ['gener', 'ciali', 'brand', 'qualiti'], 'body': ['do', 'feel', 'pressur', 'perform', 'rise', 'occas', 'tri', 'viagra', 'anxieti', 'thing', 'past', 'back', 'old', 'self'], 'content_type': 'multipart/alternative'}\n"
          ]
        }
      ]
    },
    {
      "cell_type": "markdown",
      "source": [
        "# Aplicación del vector CountVectorizer"
      ],
      "metadata": {
        "id": "rvfvKoRn_tcT"
      }
    },
    {
      "cell_type": "code",
      "source": [
        "from sklearn.feature_extraction.text import CountVectorizer\n",
        "\n",
        "# Preapración del email en una cadena de texto\n",
        "prep_email = [\" \".join(mail['subject']) + \" \".join(mail['body'])]\n",
        "\n",
        "vectorizer = CountVectorizer()\n",
        "X = vectorizer.fit(prep_email)\n",
        "\n",
        "print(\"Email:\", prep_email, \"\\n\")\n",
        "print(\"Características de entrada:\", vectorizer.get_feature_names_out())"
      ],
      "metadata": {
        "colab": {
          "base_uri": "https://localhost:8080/"
        },
        "id": "t2iZCi658iHY",
        "outputId": "08488c18-848c-45d5-d172-76aa95e75745"
      },
      "execution_count": 142,
      "outputs": [
        {
          "output_type": "stream",
          "name": "stdout",
          "text": [
            "Email: ['gener ciali brand qualitido feel pressur perform rise occas tri viagra anxieti thing past back old self'] \n",
            "\n",
            "Características de entrada: ['anxieti' 'back' 'brand' 'ciali' 'feel' 'gener' 'occas' 'old' 'past'\n",
            " 'perform' 'pressur' 'qualitido' 'rise' 'self' 'thing' 'tri' 'viagra']\n"
          ]
        }
      ]
    },
    {
      "cell_type": "code",
      "source": [
        "X = vectorizer.transform(prep_email)\n",
        "print(\"\\nValues:\\n\", X.toarray())"
      ],
      "metadata": {
        "id": "YC1JzMnDAFO6",
        "colab": {
          "base_uri": "https://localhost:8080/"
        },
        "outputId": "a6d35d87-56aa-41c0-b855-c3c13aece926"
      },
      "execution_count": 143,
      "outputs": [
        {
          "output_type": "stream",
          "name": "stdout",
          "text": [
            "\n",
            "Values:\n",
            " [[1 1 1 1 1 1 1 1 1 1 1 1 1 1 1 1 1]]\n"
          ]
        }
      ]
    },
    {
      "cell_type": "markdown",
      "source": [
        "# Aplicación de OneHotEncoding"
      ],
      "metadata": {
        "id": "eUqwWgzfELix"
      }
    },
    {
      "cell_type": "code",
      "source": [
        "from sklearn.preprocessing import OneHotEncoder\n",
        "\n",
        "prep_email = [[w] for w in mail['subject'] + mail['body']]\n",
        "\n",
        "enc = OneHotEncoder(handle_unknown='ignore')\n",
        "X = enc.fit_transform(prep_email)\n",
        "\n",
        "print(\"Features:\\n\", enc.get_feature_names_out())\n",
        "print(\"\\nValues:\\n\", X.toarray())"
      ],
      "metadata": {
        "colab": {
          "base_uri": "https://localhost:8080/"
        },
        "id": "b_CVPop1EPm_",
        "outputId": "0c721c39-691a-4f21-bda8-24632ae3df27"
      },
      "execution_count": 144,
      "outputs": [
        {
          "output_type": "stream",
          "name": "stdout",
          "text": [
            "Features:\n",
            " ['x0_anxieti' 'x0_back' 'x0_brand' 'x0_ciali' 'x0_do' 'x0_feel' 'x0_gener'\n",
            " 'x0_occas' 'x0_old' 'x0_past' 'x0_perform' 'x0_pressur' 'x0_qualiti'\n",
            " 'x0_rise' 'x0_self' 'x0_thing' 'x0_tri' 'x0_viagra']\n",
            "\n",
            "Values:\n",
            " [[0. 0. 0. 0. 0. 0. 1. 0. 0. 0. 0. 0. 0. 0. 0. 0. 0. 0.]\n",
            " [0. 0. 0. 1. 0. 0. 0. 0. 0. 0. 0. 0. 0. 0. 0. 0. 0. 0.]\n",
            " [0. 0. 1. 0. 0. 0. 0. 0. 0. 0. 0. 0. 0. 0. 0. 0. 0. 0.]\n",
            " [0. 0. 0. 0. 0. 0. 0. 0. 0. 0. 0. 0. 1. 0. 0. 0. 0. 0.]\n",
            " [0. 0. 0. 0. 1. 0. 0. 0. 0. 0. 0. 0. 0. 0. 0. 0. 0. 0.]\n",
            " [0. 0. 0. 0. 0. 1. 0. 0. 0. 0. 0. 0. 0. 0. 0. 0. 0. 0.]\n",
            " [0. 0. 0. 0. 0. 0. 0. 0. 0. 0. 0. 1. 0. 0. 0. 0. 0. 0.]\n",
            " [0. 0. 0. 0. 0. 0. 0. 0. 0. 0. 1. 0. 0. 0. 0. 0. 0. 0.]\n",
            " [0. 0. 0. 0. 0. 0. 0. 0. 0. 0. 0. 0. 0. 1. 0. 0. 0. 0.]\n",
            " [0. 0. 0. 0. 0. 0. 0. 1. 0. 0. 0. 0. 0. 0. 0. 0. 0. 0.]\n",
            " [0. 0. 0. 0. 0. 0. 0. 0. 0. 0. 0. 0. 0. 0. 0. 0. 1. 0.]\n",
            " [0. 0. 0. 0. 0. 0. 0. 0. 0. 0. 0. 0. 0. 0. 0. 0. 0. 1.]\n",
            " [1. 0. 0. 0. 0. 0. 0. 0. 0. 0. 0. 0. 0. 0. 0. 0. 0. 0.]\n",
            " [0. 0. 0. 0. 0. 0. 0. 0. 0. 0. 0. 0. 0. 0. 0. 1. 0. 0.]\n",
            " [0. 0. 0. 0. 0. 0. 0. 0. 0. 1. 0. 0. 0. 0. 0. 0. 0. 0.]\n",
            " [0. 1. 0. 0. 0. 0. 0. 0. 0. 0. 0. 0. 0. 0. 0. 0. 0. 0.]\n",
            " [0. 0. 0. 0. 0. 0. 0. 0. 1. 0. 0. 0. 0. 0. 0. 0. 0. 0.]\n",
            " [0. 0. 0. 0. 0. 0. 0. 0. 0. 0. 0. 0. 0. 0. 1. 0. 0. 0.]]\n"
          ]
        }
      ]
    },
    {
      "cell_type": "code",
      "source": [
        "def create_prep_dataset(index_path, n_elements):\n",
        "    X = []\n",
        "    y = []\n",
        "    indexes = parse_index(index_path, n_elements)\n",
        "    for i in range(n_elements):\n",
        "        print(\"\\rParsing email: {0}\".format(i+1), end='')\n",
        "        try:\n",
        "            mail, label = parse_email(indexes[i])\n",
        "            X.append(\" \".join(mail['subject']) + \" \".join(mail['body']))\n",
        "            y.append(label)\n",
        "        except:\n",
        "            pass\n",
        "    return X, y"
      ],
      "metadata": {
        "id": "IuwYpXuEElA6"
      },
      "execution_count": 145,
      "outputs": []
    },
    {
      "cell_type": "markdown",
      "source": [
        "# Entrenamiento del algoritmo"
      ],
      "metadata": {
        "id": "_Ma-TOILEoCQ"
      }
    },
    {
      "cell_type": "code",
      "source": [
        "# Leemos únicamente un subconjunto de 100 correos electrónicos\n",
        "X_train, y_train = create_prep_dataset(\"/content/data/index\",100)\n",
        "X_train"
      ],
      "metadata": {
        "colab": {
          "base_uri": "https://localhost:8080/"
        },
        "id": "1AkqDehyEnnC",
        "outputId": "5d813e9b-43ed-4820-b82c-c611d3bb0ad9"
      },
      "execution_count": 146,
      "outputs": [
        {
          "output_type": "stream",
          "name": "stdout",
          "text": [
            "\rParsing email: 1\rParsing email: 2\rParsing email: 3\rParsing email: 4\rParsing email: 5\rParsing email: 6\rParsing email: 7\rParsing email: 8\rParsing email: 9\rParsing email: 10\rParsing email: 11\rParsing email: 12\rParsing email: 13\rParsing email: 14\rParsing email: 15\rParsing email: 16\rParsing email: 17\rParsing email: 18\rParsing email: 19\rParsing email: 20\rParsing email: 21\rParsing email: 22\rParsing email: 23\rParsing email: 24\rParsing email: 25\rParsing email: 26\rParsing email: 27\rParsing email: 28\rParsing email: 29\rParsing email: 30\rParsing email: 31\rParsing email: 32\rParsing email: 33\rParsing email: 34\rParsing email: 35\rParsing email: 36\rParsing email: 37\rParsing email: 38\rParsing email: 39\rParsing email: 40\rParsing email: 41\rParsing email: 42\rParsing email: 43\rParsing email: 44\rParsing email: 45\rParsing email: 46\rParsing email: 47\rParsing email: 48\rParsing email: 49\rParsing email: 50\rParsing email: 51\rParsing email: 52\rParsing email: 53\rParsing email: 54\rParsing email: 55\rParsing email: 56\rParsing email: 57\rParsing email: 58\rParsing email: 59\rParsing email: 60\rParsing email: 61\rParsing email: 62\rParsing email: 63\rParsing email: 64\rParsing email: 65\rParsing email: 66\rParsing email: 67\rParsing email: 68\rParsing email: 69\rParsing email: 70\rParsing email: 71\rParsing email: 72\rParsing email: 73\rParsing email: 74\rParsing email: 75\rParsing email: 76\rParsing email: 77\rParsing email: 78\rParsing email: 79\rParsing email: 80\rParsing email: 81\rParsing email: 82\rParsing email: 83\rParsing email: 84\rParsing email: 85\rParsing email: 86\rParsing email: 87\rParsing email: 88\rParsing email: 89\rParsing email: 90\rParsing email: 91\rParsing email: 92\rParsing email: 93\rParsing email: 94\rParsing email: 95\rParsing email: 96\rParsing email: 97\rParsing email: 98\rParsing email: 99\rParsing email: 100"
          ]
        },
        {
          "output_type": "execute_result",
          "data": {
            "text/plain": [
              "['gener ciali brand qualitido feel pressur perform rise occas tri viagra anxieti thing past back old self']"
            ]
          },
          "metadata": {},
          "execution_count": 146
        }
      ]
    },
    {
      "cell_type": "code",
      "source": [
        "import numpy as np\n",
        "np.unique(y_train, return_counts=True)"
      ],
      "metadata": {
        "colab": {
          "base_uri": "https://localhost:8080/"
        },
        "id": "K05W5H_nG1Yc",
        "outputId": "fbd19a25-9f14-475f-f1d6-32d1bf2fe942"
      },
      "execution_count": 147,
      "outputs": [
        {
          "output_type": "execute_result",
          "data": {
            "text/plain": [
              "(array(['spam '], dtype='<U5'), array([1]))"
            ]
          },
          "metadata": {},
          "execution_count": 147
        }
      ]
    },
    {
      "cell_type": "markdown",
      "source": [
        "## Aplicamos vectorización a los datos"
      ],
      "metadata": {
        "id": "jtrdJ9DuE6Au"
      }
    },
    {
      "cell_type": "code",
      "source": [
        "vectorizer = CountVectorizer()\n",
        "X_train = vectorizer.fit_transform(X_train)"
      ],
      "metadata": {
        "id": "bW45jFXAE-g9"
      },
      "execution_count": 148,
      "outputs": []
    },
    {
      "cell_type": "code",
      "source": [
        "print(X_train.toarray())\n",
        "print(\"\\nFeatures:\", len(vectorizer.get_feature_names_out()))"
      ],
      "metadata": {
        "colab": {
          "base_uri": "https://localhost:8080/"
        },
        "id": "DKWln0ByFJaL",
        "outputId": "c8624c2c-82f7-4eef-badd-0c55532599cc"
      },
      "execution_count": 149,
      "outputs": [
        {
          "output_type": "stream",
          "name": "stdout",
          "text": [
            "[[1 1 1 1 1 1 1 1 1 1 1 1 1 1 1 1 1]]\n",
            "\n",
            "Features: 17\n"
          ]
        }
      ]
    },
    {
      "cell_type": "code",
      "source": [
        "import pandas as pd\n",
        "\n",
        "pd.DataFrame(X_train.toarray(), columns=[vectorizer.get_feature_names_out()])"
      ],
      "metadata": {
        "colab": {
          "base_uri": "https://localhost:8080/",
          "height": 81
        },
        "id": "K3XEHi6bFNgs",
        "outputId": "6d0faea9-d9f9-4892-a1d6-befbf96745cd"
      },
      "execution_count": 150,
      "outputs": [
        {
          "output_type": "execute_result",
          "data": {
            "text/plain": [
              "  anxieti back brand ciali feel gener occas old past perform pressur  \\\n",
              "0       1    1     1     1    1     1     1   1    1       1       1   \n",
              "\n",
              "  qualitido rise self thing tri viagra  \n",
              "0         1    1    1     1   1      1  "
            ],
            "text/html": [
              "\n",
              "  <div id=\"df-414ea2ba-c345-49e7-96a3-738906e6d476\" class=\"colab-df-container\">\n",
              "    <div>\n",
              "<style scoped>\n",
              "    .dataframe tbody tr th:only-of-type {\n",
              "        vertical-align: middle;\n",
              "    }\n",
              "\n",
              "    .dataframe tbody tr th {\n",
              "        vertical-align: top;\n",
              "    }\n",
              "\n",
              "    .dataframe thead tr th {\n",
              "        text-align: left;\n",
              "    }\n",
              "</style>\n",
              "<table border=\"1\" class=\"dataframe\">\n",
              "  <thead>\n",
              "    <tr>\n",
              "      <th></th>\n",
              "      <th>anxieti</th>\n",
              "      <th>back</th>\n",
              "      <th>brand</th>\n",
              "      <th>ciali</th>\n",
              "      <th>feel</th>\n",
              "      <th>gener</th>\n",
              "      <th>occas</th>\n",
              "      <th>old</th>\n",
              "      <th>past</th>\n",
              "      <th>perform</th>\n",
              "      <th>pressur</th>\n",
              "      <th>qualitido</th>\n",
              "      <th>rise</th>\n",
              "      <th>self</th>\n",
              "      <th>thing</th>\n",
              "      <th>tri</th>\n",
              "      <th>viagra</th>\n",
              "    </tr>\n",
              "  </thead>\n",
              "  <tbody>\n",
              "    <tr>\n",
              "      <th>0</th>\n",
              "      <td>1</td>\n",
              "      <td>1</td>\n",
              "      <td>1</td>\n",
              "      <td>1</td>\n",
              "      <td>1</td>\n",
              "      <td>1</td>\n",
              "      <td>1</td>\n",
              "      <td>1</td>\n",
              "      <td>1</td>\n",
              "      <td>1</td>\n",
              "      <td>1</td>\n",
              "      <td>1</td>\n",
              "      <td>1</td>\n",
              "      <td>1</td>\n",
              "      <td>1</td>\n",
              "      <td>1</td>\n",
              "      <td>1</td>\n",
              "    </tr>\n",
              "  </tbody>\n",
              "</table>\n",
              "</div>\n",
              "    <div class=\"colab-df-buttons\">\n",
              "\n",
              "  <div class=\"colab-df-container\">\n",
              "    <button class=\"colab-df-convert\" onclick=\"convertToInteractive('df-414ea2ba-c345-49e7-96a3-738906e6d476')\"\n",
              "            title=\"Convert this dataframe to an interactive table.\"\n",
              "            style=\"display:none;\">\n",
              "\n",
              "  <svg xmlns=\"http://www.w3.org/2000/svg\" height=\"24px\" viewBox=\"0 -960 960 960\">\n",
              "    <path d=\"M120-120v-720h720v720H120Zm60-500h600v-160H180v160Zm220 220h160v-160H400v160Zm0 220h160v-160H400v160ZM180-400h160v-160H180v160Zm440 0h160v-160H620v160ZM180-180h160v-160H180v160Zm440 0h160v-160H620v160Z\"/>\n",
              "  </svg>\n",
              "    </button>\n",
              "\n",
              "  <style>\n",
              "    .colab-df-container {\n",
              "      display:flex;\n",
              "      gap: 12px;\n",
              "    }\n",
              "\n",
              "    .colab-df-convert {\n",
              "      background-color: #E8F0FE;\n",
              "      border: none;\n",
              "      border-radius: 50%;\n",
              "      cursor: pointer;\n",
              "      display: none;\n",
              "      fill: #1967D2;\n",
              "      height: 32px;\n",
              "      padding: 0 0 0 0;\n",
              "      width: 32px;\n",
              "    }\n",
              "\n",
              "    .colab-df-convert:hover {\n",
              "      background-color: #E2EBFA;\n",
              "      box-shadow: 0px 1px 2px rgba(60, 64, 67, 0.3), 0px 1px 3px 1px rgba(60, 64, 67, 0.15);\n",
              "      fill: #174EA6;\n",
              "    }\n",
              "\n",
              "    .colab-df-buttons div {\n",
              "      margin-bottom: 4px;\n",
              "    }\n",
              "\n",
              "    [theme=dark] .colab-df-convert {\n",
              "      background-color: #3B4455;\n",
              "      fill: #D2E3FC;\n",
              "    }\n",
              "\n",
              "    [theme=dark] .colab-df-convert:hover {\n",
              "      background-color: #434B5C;\n",
              "      box-shadow: 0px 1px 3px 1px rgba(0, 0, 0, 0.15);\n",
              "      filter: drop-shadow(0px 1px 2px rgba(0, 0, 0, 0.3));\n",
              "      fill: #FFFFFF;\n",
              "    }\n",
              "  </style>\n",
              "\n",
              "    <script>\n",
              "      const buttonEl =\n",
              "        document.querySelector('#df-414ea2ba-c345-49e7-96a3-738906e6d476 button.colab-df-convert');\n",
              "      buttonEl.style.display =\n",
              "        google.colab.kernel.accessAllowed ? 'block' : 'none';\n",
              "\n",
              "      async function convertToInteractive(key) {\n",
              "        const element = document.querySelector('#df-414ea2ba-c345-49e7-96a3-738906e6d476');\n",
              "        const dataTable =\n",
              "          await google.colab.kernel.invokeFunction('convertToInteractive',\n",
              "                                                    [key], {});\n",
              "        if (!dataTable) return;\n",
              "\n",
              "        const docLinkHtml = 'Like what you see? Visit the ' +\n",
              "          '<a target=\"_blank\" href=https://colab.research.google.com/notebooks/data_table.ipynb>data table notebook</a>'\n",
              "          + ' to learn more about interactive tables.';\n",
              "        element.innerHTML = '';\n",
              "        dataTable['output_type'] = 'display_data';\n",
              "        await google.colab.output.renderOutput(dataTable, element);\n",
              "        const docLink = document.createElement('div');\n",
              "        docLink.innerHTML = docLinkHtml;\n",
              "        element.appendChild(docLink);\n",
              "      }\n",
              "    </script>\n",
              "  </div>\n",
              "\n",
              "\n",
              "    </div>\n",
              "  </div>\n"
            ],
            "application/vnd.google.colaboratory.intrinsic+json": {
              "type": "dataframe",
              "summary": "{\n  \"name\": \"pd\",\n  \"rows\": 1,\n  \"fields\": [\n    {\n      \"column\": [\n        \"anxieti\"\n      ],\n      \"properties\": {\n        \"dtype\": \"number\",\n        \"std\": null,\n        \"min\": 1,\n        \"max\": 1,\n        \"num_unique_values\": 1,\n        \"samples\": [\n          1\n        ],\n        \"semantic_type\": \"\",\n        \"description\": \"\"\n      }\n    },\n    {\n      \"column\": [\n        \"back\"\n      ],\n      \"properties\": {\n        \"dtype\": \"number\",\n        \"std\": null,\n        \"min\": 1,\n        \"max\": 1,\n        \"num_unique_values\": 1,\n        \"samples\": [\n          1\n        ],\n        \"semantic_type\": \"\",\n        \"description\": \"\"\n      }\n    },\n    {\n      \"column\": [\n        \"brand\"\n      ],\n      \"properties\": {\n        \"dtype\": \"number\",\n        \"std\": null,\n        \"min\": 1,\n        \"max\": 1,\n        \"num_unique_values\": 1,\n        \"samples\": [\n          1\n        ],\n        \"semantic_type\": \"\",\n        \"description\": \"\"\n      }\n    },\n    {\n      \"column\": [\n        \"ciali\"\n      ],\n      \"properties\": {\n        \"dtype\": \"number\",\n        \"std\": null,\n        \"min\": 1,\n        \"max\": 1,\n        \"num_unique_values\": 1,\n        \"samples\": [\n          1\n        ],\n        \"semantic_type\": \"\",\n        \"description\": \"\"\n      }\n    },\n    {\n      \"column\": [\n        \"feel\"\n      ],\n      \"properties\": {\n        \"dtype\": \"number\",\n        \"std\": null,\n        \"min\": 1,\n        \"max\": 1,\n        \"num_unique_values\": 1,\n        \"samples\": [\n          1\n        ],\n        \"semantic_type\": \"\",\n        \"description\": \"\"\n      }\n    },\n    {\n      \"column\": [\n        \"gener\"\n      ],\n      \"properties\": {\n        \"dtype\": \"number\",\n        \"std\": null,\n        \"min\": 1,\n        \"max\": 1,\n        \"num_unique_values\": 1,\n        \"samples\": [\n          1\n        ],\n        \"semantic_type\": \"\",\n        \"description\": \"\"\n      }\n    },\n    {\n      \"column\": [\n        \"occas\"\n      ],\n      \"properties\": {\n        \"dtype\": \"number\",\n        \"std\": null,\n        \"min\": 1,\n        \"max\": 1,\n        \"num_unique_values\": 1,\n        \"samples\": [\n          1\n        ],\n        \"semantic_type\": \"\",\n        \"description\": \"\"\n      }\n    },\n    {\n      \"column\": [\n        \"old\"\n      ],\n      \"properties\": {\n        \"dtype\": \"number\",\n        \"std\": null,\n        \"min\": 1,\n        \"max\": 1,\n        \"num_unique_values\": 1,\n        \"samples\": [\n          1\n        ],\n        \"semantic_type\": \"\",\n        \"description\": \"\"\n      }\n    },\n    {\n      \"column\": [\n        \"past\"\n      ],\n      \"properties\": {\n        \"dtype\": \"number\",\n        \"std\": null,\n        \"min\": 1,\n        \"max\": 1,\n        \"num_unique_values\": 1,\n        \"samples\": [\n          1\n        ],\n        \"semantic_type\": \"\",\n        \"description\": \"\"\n      }\n    },\n    {\n      \"column\": [\n        \"perform\"\n      ],\n      \"properties\": {\n        \"dtype\": \"number\",\n        \"std\": null,\n        \"min\": 1,\n        \"max\": 1,\n        \"num_unique_values\": 1,\n        \"samples\": [\n          1\n        ],\n        \"semantic_type\": \"\",\n        \"description\": \"\"\n      }\n    },\n    {\n      \"column\": [\n        \"pressur\"\n      ],\n      \"properties\": {\n        \"dtype\": \"number\",\n        \"std\": null,\n        \"min\": 1,\n        \"max\": 1,\n        \"num_unique_values\": 1,\n        \"samples\": [\n          1\n        ],\n        \"semantic_type\": \"\",\n        \"description\": \"\"\n      }\n    },\n    {\n      \"column\": [\n        \"qualitido\"\n      ],\n      \"properties\": {\n        \"dtype\": \"number\",\n        \"std\": null,\n        \"min\": 1,\n        \"max\": 1,\n        \"num_unique_values\": 1,\n        \"samples\": [\n          1\n        ],\n        \"semantic_type\": \"\",\n        \"description\": \"\"\n      }\n    },\n    {\n      \"column\": [\n        \"rise\"\n      ],\n      \"properties\": {\n        \"dtype\": \"number\",\n        \"std\": null,\n        \"min\": 1,\n        \"max\": 1,\n        \"num_unique_values\": 1,\n        \"samples\": [\n          1\n        ],\n        \"semantic_type\": \"\",\n        \"description\": \"\"\n      }\n    },\n    {\n      \"column\": [\n        \"self\"\n      ],\n      \"properties\": {\n        \"dtype\": \"number\",\n        \"std\": null,\n        \"min\": 1,\n        \"max\": 1,\n        \"num_unique_values\": 1,\n        \"samples\": [\n          1\n        ],\n        \"semantic_type\": \"\",\n        \"description\": \"\"\n      }\n    },\n    {\n      \"column\": [\n        \"thing\"\n      ],\n      \"properties\": {\n        \"dtype\": \"number\",\n        \"std\": null,\n        \"min\": 1,\n        \"max\": 1,\n        \"num_unique_values\": 1,\n        \"samples\": [\n          1\n        ],\n        \"semantic_type\": \"\",\n        \"description\": \"\"\n      }\n    },\n    {\n      \"column\": [\n        \"tri\"\n      ],\n      \"properties\": {\n        \"dtype\": \"number\",\n        \"std\": null,\n        \"min\": 1,\n        \"max\": 1,\n        \"num_unique_values\": 1,\n        \"samples\": [\n          1\n        ],\n        \"semantic_type\": \"\",\n        \"description\": \"\"\n      }\n    },\n    {\n      \"column\": [\n        \"viagra\"\n      ],\n      \"properties\": {\n        \"dtype\": \"number\",\n        \"std\": null,\n        \"min\": 1,\n        \"max\": 1,\n        \"num_unique_values\": 1,\n        \"samples\": [\n          1\n        ],\n        \"semantic_type\": \"\",\n        \"description\": \"\"\n      }\n    }\n  ]\n}"
            }
          },
          "metadata": {},
          "execution_count": 150
        }
      ]
    },
    {
      "cell_type": "code",
      "source": [
        "y_train"
      ],
      "metadata": {
        "colab": {
          "base_uri": "https://localhost:8080/"
        },
        "id": "97g_9nFoFSMg",
        "outputId": "86cc3d85-57ba-4138-f3b1-9baed9892e37"
      },
      "execution_count": 151,
      "outputs": [
        {
          "output_type": "execute_result",
          "data": {
            "text/plain": [
              "['spam ']"
            ]
          },
          "metadata": {},
          "execution_count": 151
        }
      ]
    },
    {
      "cell_type": "code",
      "source": [
        "from sklearn.linear_model import LogisticRegression\n",
        "\n",
        "clf = LogisticRegression()\n",
        "clf.fit(X_train, y_train)"
      ],
      "metadata": {
        "colab": {
          "base_uri": "https://localhost:8080/",
          "height": 321
        },
        "id": "zv3ViBHMFVBF",
        "outputId": "c64cf98b-0d4e-4d9c-e978-04ed707d1c50",
        "collapsed": true
      },
      "execution_count": 152,
      "outputs": [
        {
          "output_type": "error",
          "ename": "ValueError",
          "evalue": "This solver needs samples of at least 2 classes in the data, but the data contains only one class: 'spam '",
          "traceback": [
            "\u001b[0;31m---------------------------------------------------------------------------\u001b[0m",
            "\u001b[0;31mValueError\u001b[0m                                Traceback (most recent call last)",
            "\u001b[0;32m<ipython-input-152-c49cf83c3cd3>\u001b[0m in \u001b[0;36m<cell line: 0>\u001b[0;34m()\u001b[0m\n\u001b[1;32m      2\u001b[0m \u001b[0;34m\u001b[0m\u001b[0m\n\u001b[1;32m      3\u001b[0m \u001b[0mclf\u001b[0m \u001b[0;34m=\u001b[0m \u001b[0mLogisticRegression\u001b[0m\u001b[0;34m(\u001b[0m\u001b[0;34m)\u001b[0m\u001b[0;34m\u001b[0m\u001b[0;34m\u001b[0m\u001b[0m\n\u001b[0;32m----> 4\u001b[0;31m \u001b[0mclf\u001b[0m\u001b[0;34m.\u001b[0m\u001b[0mfit\u001b[0m\u001b[0;34m(\u001b[0m\u001b[0mX_train\u001b[0m\u001b[0;34m,\u001b[0m \u001b[0my_train\u001b[0m\u001b[0;34m)\u001b[0m\u001b[0;34m\u001b[0m\u001b[0;34m\u001b[0m\u001b[0m\n\u001b[0m",
            "\u001b[0;32m/usr/local/lib/python3.11/dist-packages/sklearn/base.py\u001b[0m in \u001b[0;36mwrapper\u001b[0;34m(estimator, *args, **kwargs)\u001b[0m\n\u001b[1;32m   1387\u001b[0m                 )\n\u001b[1;32m   1388\u001b[0m             ):\n\u001b[0;32m-> 1389\u001b[0;31m                 \u001b[0;32mreturn\u001b[0m \u001b[0mfit_method\u001b[0m\u001b[0;34m(\u001b[0m\u001b[0mestimator\u001b[0m\u001b[0;34m,\u001b[0m \u001b[0;34m*\u001b[0m\u001b[0margs\u001b[0m\u001b[0;34m,\u001b[0m \u001b[0;34m**\u001b[0m\u001b[0mkwargs\u001b[0m\u001b[0;34m)\u001b[0m\u001b[0;34m\u001b[0m\u001b[0;34m\u001b[0m\u001b[0m\n\u001b[0m\u001b[1;32m   1390\u001b[0m \u001b[0;34m\u001b[0m\u001b[0m\n\u001b[1;32m   1391\u001b[0m         \u001b[0;32mreturn\u001b[0m \u001b[0mwrapper\u001b[0m\u001b[0;34m\u001b[0m\u001b[0;34m\u001b[0m\u001b[0m\n",
            "\u001b[0;32m/usr/local/lib/python3.11/dist-packages/sklearn/linear_model/_logistic.py\u001b[0m in \u001b[0;36mfit\u001b[0;34m(self, X, y, sample_weight)\u001b[0m\n\u001b[1;32m   1299\u001b[0m         \u001b[0mclasses_\u001b[0m \u001b[0;34m=\u001b[0m \u001b[0mself\u001b[0m\u001b[0;34m.\u001b[0m\u001b[0mclasses_\u001b[0m\u001b[0;34m\u001b[0m\u001b[0;34m\u001b[0m\u001b[0m\n\u001b[1;32m   1300\u001b[0m         \u001b[0;32mif\u001b[0m \u001b[0mn_classes\u001b[0m \u001b[0;34m<\u001b[0m \u001b[0;36m2\u001b[0m\u001b[0;34m:\u001b[0m\u001b[0;34m\u001b[0m\u001b[0;34m\u001b[0m\u001b[0m\n\u001b[0;32m-> 1301\u001b[0;31m             raise ValueError(\n\u001b[0m\u001b[1;32m   1302\u001b[0m                 \u001b[0;34m\"This solver needs samples of at least 2 classes\"\u001b[0m\u001b[0;34m\u001b[0m\u001b[0;34m\u001b[0m\u001b[0m\n\u001b[1;32m   1303\u001b[0m                 \u001b[0;34m\" in the data, but the data contains only one\"\u001b[0m\u001b[0;34m\u001b[0m\u001b[0;34m\u001b[0m\u001b[0m\n",
            "\u001b[0;31mValueError\u001b[0m: This solver needs samples of at least 2 classes in the data, but the data contains only one class: 'spam '"
          ]
        }
      ]
    },
    {
      "cell_type": "markdown",
      "source": [
        "# Predicción\n"
      ],
      "metadata": {
        "id": "2xgFYmfBKlVt"
      }
    },
    {
      "cell_type": "code",
      "source": [
        "# Leemos 150 correos de nuestro conjunto de datos y nos quedamos únicamente con los 50 últimos\n",
        "# Estos 50 correos electrónicos no se han utilizado para entrenar el algoritmo\n",
        "X, y = create_prep_dataset(\"datasets/trec07p/full/index\", 150)\n",
        "X_test = X[100:]\n",
        "y_test = y[100:]"
      ],
      "metadata": {
        "id": "p9wr12kFKnQY"
      },
      "execution_count": null,
      "outputs": []
    },
    {
      "cell_type": "code",
      "source": [
        "# procesamiento de los correos con el vectorizador creado anteriormente\n",
        "X_test = vectorizer.transform(X_test)"
      ],
      "metadata": {
        "id": "4cvzU21PK25t"
      },
      "execution_count": null,
      "outputs": []
    },
    {
      "cell_type": "code",
      "source": [
        "# predicción del tipo de correo\n",
        "y_pred = clf.predict(X_test)\n",
        "y_pred"
      ],
      "metadata": {
        "id": "SIMOmoc0K6OJ"
      },
      "execution_count": null,
      "outputs": []
    },
    {
      "cell_type": "code",
      "source": [
        "print(\"Predicción:\\n\", y_pred)\n",
        "print(\"\\nEtiquetas reales:\\n\", y_test)"
      ],
      "metadata": {
        "id": "9YCGC-mAK9UQ"
      },
      "execution_count": null,
      "outputs": []
    },
    {
      "cell_type": "code",
      "source": [
        "# valoración de los resultados\n",
        "from sklearn.metrics import accuracy_score\n",
        "\n",
        "print('Accuracy: {:.3f}'.format(accuracy_score(y_test, y_pred)))"
      ],
      "metadata": {
        "id": "MAEyaj_bLCRo"
      },
      "execution_count": null,
      "outputs": []
    },
    {
      "cell_type": "markdown",
      "source": [
        "# Incrementando el conjunto de datos"
      ],
      "metadata": {
        "id": "KtOgZFUcLWV2"
      }
    },
    {
      "cell_type": "code",
      "source": [
        "# Leemos 12000 correos electrónicos\n",
        "X, y = create_prep_dataset(\"datasets/trec07p/full/index\", 12000)"
      ],
      "metadata": {
        "id": "ZuW2BmVsLZI4"
      },
      "execution_count": null,
      "outputs": []
    },
    {
      "cell_type": "code",
      "source": [
        "# Utilizamos 10000 correos electrónicos para entrenar el algoritmo y 2000 para realizar pruebas\n",
        "X_train, y_train = X[:10000], y[:10000]\n",
        "X_test, y_test = X[10000:], y[10000:]"
      ],
      "metadata": {
        "id": "5DdzJBEXLeaA"
      },
      "execution_count": null,
      "outputs": []
    },
    {
      "cell_type": "code",
      "source": [
        "vectorizer = CountVectorizer()\n",
        "X_train = vectorizer.fit_transform(X_train)"
      ],
      "metadata": {
        "id": "jI2D7zrJLhJf"
      },
      "execution_count": null,
      "outputs": []
    },
    {
      "cell_type": "code",
      "source": [
        "clf = LogisticRegression()\n",
        "clf.fit(X_train, y_train)"
      ],
      "metadata": {
        "id": "g7bCuhMELh8D"
      },
      "execution_count": null,
      "outputs": []
    },
    {
      "cell_type": "code",
      "source": [
        "X_test = vectorizer.transform(X_test)"
      ],
      "metadata": {
        "id": "FIUQRq-rLlPF"
      },
      "execution_count": null,
      "outputs": []
    },
    {
      "cell_type": "code",
      "source": [
        "y_pred = clf.predict(X_test)"
      ],
      "metadata": {
        "id": "AJnFh3m_LnIr"
      },
      "execution_count": null,
      "outputs": []
    },
    {
      "cell_type": "code",
      "source": [
        "print('Accuracy: {:.3f}'.format(accuracy_score(y_test, y_pred)))"
      ],
      "metadata": {
        "id": "_WthT-whLm7o"
      },
      "execution_count": null,
      "outputs": []
    }
  ]
}