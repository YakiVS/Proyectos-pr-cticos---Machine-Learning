{
  "nbformat": 4,
  "nbformat_minor": 0,
  "metadata": {
    "colab": {
      "provenance": [],
      "toc_visible": true,
      "authorship_tag": "ABX9TyPJIojcnLhCrVnXgNRsHaar",
      "include_colab_link": true
    },
    "kernelspec": {
      "name": "python3",
      "display_name": "Python 3"
    },
    "language_info": {
      "name": "python"
    }
  },
  "cells": [
    {
      "cell_type": "markdown",
      "metadata": {
        "id": "view-in-github",
        "colab_type": "text"
      },
      "source": [
        "<a href=\"https://colab.research.google.com/github/YakiVS/Proyectos-pr-cticos---Machine-Learning/blob/main/Detecci%C3%B3n_de_SPAN_Regresi%C3%B3n_Log%C3%ADstica.ipynb\" target=\"_parent\"><img src=\"https://colab.research.google.com/assets/colab-badge.svg\" alt=\"Open In Colab\"/></a>"
      ]
    },
    {
      "cell_type": "markdown",
      "source": [
        "# Funciones para limpiar los correos electronicos para conseguir formatos limpios y estructurados"
      ],
      "metadata": {
        "id": "GCyXFmfK3IVR"
      }
    },
    {
      "cell_type": "code",
      "execution_count": 127,
      "metadata": {
        "id": "AmTj3L1PklG8"
      },
      "outputs": [],
      "source": [
        "# Clase que facilita el procesamiento de correos electrónicos que continen código HMTL\n",
        "from html.parser import HTMLParser"
      ]
    },
    {
      "cell_type": "code",
      "source": [
        "class MLStripper(HTMLParser):\n",
        "  def __init__(self):\n",
        "    self.reset()\n",
        "    self.strict=False\n",
        "    self.convert_charrefs=True\n",
        "    self.fed=[]\n",
        "\n",
        "  def handle_data(self, d):\n",
        "    self.fed.append(d)\n",
        "\n",
        "  def get_data(self):\n",
        "    return ''.join(self.fed)\n"
      ],
      "metadata": {
        "id": "Bo8TXAZ84Uki"
      },
      "execution_count": 128,
      "outputs": []
    },
    {
      "cell_type": "code",
      "source": [
        "# En esta función se eliminan los Tags HTML de los correos electrónicos\n",
        "def strip_tags(html):\n",
        "  s=MLStripper()\n",
        "  s.feed(html)\n",
        "  return s.get_data()"
      ],
      "metadata": {
        "id": "tbXWx0275Tze"
      },
      "execution_count": 129,
      "outputs": []
    },
    {
      "cell_type": "code",
      "source": [
        "# Formas como se elimnan los tags\n",
        "t = '<tr><td align=\"left\"><a href=\"../../issues/51/16.html#article\">Phrack World News</a></td>'\n",
        "strip_tags(t)"
      ],
      "metadata": {
        "id": "vPhwjGYg5wCf",
        "collapsed": true
      },
      "execution_count": null,
      "outputs": []
    },
    {
      "cell_type": "markdown",
      "source": [
        "# Proceso de Steaming"
      ],
      "metadata": {
        "id": "H8r-6y8ZHymp"
      }
    },
    {
      "cell_type": "code",
      "source": [
        "import email\n",
        "import string\n",
        "import nltk\n",
        "\n",
        "class Parser:\n",
        "  def __init__(self) :\n",
        "    self.stemmer=nltk.PorterStemmer()\n",
        "    self.stopwords=set(nltk.corpus.stopwords.words('english'))\n",
        "    self.punctuation=list(string.punctuation)\n",
        "\n",
        "  def parse(self, email_path):\n",
        "    \"\"\"Parse an email\"\"\"\n",
        "    with open(email_path, errors='ignore') as e:\n",
        "      msg=email.message_from_file(e)\n",
        "    return None if not msg else self.get_email_content(msg)\n",
        "\n",
        "  def get_email_content(self,msg):\n",
        "    \"\"\"Etract the email content.\"\"\"\n",
        "    subject=self.tokenize(msg['Subject']) if msg['Subject'] else []\n",
        "    body=self.get_email_body(msg.get_payload(),\n",
        "                             msg.get_content_type())\n",
        "    content_type=msg.get_content_type()\n",
        "\n",
        "    # Returning the content of the email\n",
        "    return {\n",
        "        \"subject\":subject,\n",
        "        \"body\":body,\n",
        "        \"content_type\":content_type\n",
        "    }\n",
        "  def get_email_body(self, payload, content_type):\n",
        "        \"\"\"Extract the body of the email.\"\"\"\n",
        "        body = []\n",
        "        if type(payload) is str and content_type == 'text/plain':\n",
        "            return self.tokenize(payload)\n",
        "        elif type(payload) is str and content_type == 'text/html':\n",
        "            return self.tokenize(strip_tags(payload))\n",
        "        elif type(payload) is list:\n",
        "            for p in payload:\n",
        "                body += self.get_email_body(p.get_payload(),\n",
        "                                            p.get_content_type())\n",
        "        return body\n",
        "\n",
        "  def tokenize(self,text):\n",
        "    for c in self.punctuation:\n",
        "      text=text.replace(c,\"\")\n",
        "    text=text.replace(\"\\t\",\" \")\n",
        "    text=text.replace(\"\\n\",\" \")\n",
        "    tokens=list(filter(None, text.split(\" \")))\n",
        "\n",
        "    # Steaming of the tokens\n",
        "    return [self.stemmer.stem(w) for w in tokens if w not in self.stopwords]"
      ],
      "metadata": {
        "id": "0f5UYmlDAe7D"
      },
      "execution_count": 131,
      "outputs": []
    },
    {
      "cell_type": "markdown",
      "source": [
        "# Lectura de un correo en formato raw"
      ],
      "metadata": {
        "id": "yq8NVlgAP0M7"
      }
    },
    {
      "cell_type": "code",
      "source": [
        "inmail = open(\"/content/data/inmail.1\").read()\n",
        "print(inmail)"
      ],
      "metadata": {
        "collapsed": true,
        "id": "HH8IC0ySPx7k"
      },
      "execution_count": null,
      "outputs": []
    },
    {
      "cell_type": "markdown",
      "source": [
        "# Parsing del correo electrónico"
      ],
      "metadata": {
        "id": "IFTw1XQWQw-9"
      }
    },
    {
      "cell_type": "code",
      "source": [
        "import nltk\n",
        "nltk.download('stopwords')\n"
      ],
      "metadata": {
        "id": "katL3fGAQu5E",
        "collapsed": true
      },
      "execution_count": null,
      "outputs": []
    },
    {
      "cell_type": "code",
      "source": [
        "p = Parser()\n",
        "p.parse(\"/content/data/inmail.1\")"
      ],
      "metadata": {
        "id": "IjvnvxUtRAgJ",
        "collapsed": true
      },
      "execution_count": null,
      "outputs": []
    },
    {
      "cell_type": "markdown",
      "source": [
        "# Lectura del índice"
      ],
      "metadata": {
        "id": "KnGn2bSfQ9X3"
      }
    },
    {
      "cell_type": "code",
      "source": [
        "index=open(\"/content/data/inmail.1\").readlines()\n",
        "index"
      ],
      "metadata": {
        "collapsed": true,
        "id": "lhd7Vgk95trH"
      },
      "execution_count": null,
      "outputs": []
    },
    {
      "cell_type": "code",
      "source": [
        "def parse_index(path_to_index, n_elements):\n",
        "  ret_indexes = []\n",
        "  index = open(path_to_index).readlines()\n",
        "  for i in range(n_elements):\n",
        "    mail=index[i].split('../')\n",
        "    label=mail[0]\n",
        "    path=mail[1][:-1]\n",
        "    ret_indexes.append({'label':label, 'email_path':path})\n",
        "  return ret_indexes"
      ],
      "metadata": {
        "id": "vEnNIjGa6NbL"
      },
      "execution_count": 136,
      "outputs": []
    },
    {
      "cell_type": "code",
      "source": [
        "def parse_email(index):\n",
        "  p=Parser()\n",
        "  pmail=p.parse(index['email_path'])\n",
        "  return pmail,index['label']"
      ],
      "metadata": {
        "id": "fUMOjbYU7q-O"
      },
      "execution_count": 137,
      "outputs": []
    },
    {
      "cell_type": "code",
      "source": [
        "indexes = parse_index(\"/content/data/index\",10)\n",
        "indexes"
      ],
      "metadata": {
        "id": "Nt-TBVmg7__K"
      },
      "execution_count": null,
      "outputs": []
    },
    {
      "cell_type": "markdown",
      "source": [
        "# Procesamiento de todo el conjunto de datos"
      ],
      "metadata": {
        "id": "4sPYN9bI8Q0A"
      }
    },
    {
      "cell_type": "code",
      "source": [
        "# cargamos el índice y las etiquetas en memoria\n",
        "index=parse_index('/content/data/index',1)"
      ],
      "metadata": {
        "id": "N87IdQLg8Tlo"
      },
      "execution_count": 139,
      "outputs": []
    },
    {
      "cell_type": "code",
      "source": [
        "# Leemos el primer correo\n",
        "import os\n",
        "\n",
        "open(index[0][\"email_path\"]).read()"
      ],
      "metadata": {
        "id": "lbev6e4o_l7P",
        "collapsed": true
      },
      "execution_count": null,
      "outputs": []
    },
    {
      "cell_type": "code",
      "source": [
        "# Parseamos el primer correo\n",
        "mail, label = parse_email(index[0])\n",
        "print(\"El correo es:\", label)\n",
        "print(mail)"
      ],
      "metadata": {
        "id": "fIlRv0bx8f5A",
        "collapsed": true
      },
      "execution_count": null,
      "outputs": []
    },
    {
      "cell_type": "markdown",
      "source": [
        "# Aplicación del vector CountVectorizer"
      ],
      "metadata": {
        "id": "rvfvKoRn_tcT"
      }
    },
    {
      "cell_type": "code",
      "source": [
        "from sklearn.feature_extraction.text import CountVectorizer\n",
        "\n",
        "# Preapración del email en una cadena de texto\n",
        "prep_email = [\" \".join(mail['subject']) + \" \".join(mail['body'])]\n",
        "\n",
        "vectorizer = CountVectorizer()\n",
        "X = vectorizer.fit(prep_email)\n",
        "\n",
        "print(\"Email:\", prep_email, \"\\n\")\n",
        "print(\"Características de entrada:\", vectorizer.get_feature_names_out())"
      ],
      "metadata": {
        "id": "t2iZCi658iHY",
        "collapsed": true
      },
      "execution_count": null,
      "outputs": []
    },
    {
      "cell_type": "code",
      "source": [
        "X = vectorizer.transform(prep_email)\n",
        "print(\"\\nValues:\\n\", X.toarray())"
      ],
      "metadata": {
        "id": "YC1JzMnDAFO6",
        "collapsed": true
      },
      "execution_count": null,
      "outputs": []
    },
    {
      "cell_type": "markdown",
      "source": [
        "# Aplicación de OneHotEncoding"
      ],
      "metadata": {
        "id": "eUqwWgzfELix"
      }
    },
    {
      "cell_type": "code",
      "source": [
        "from sklearn.preprocessing import OneHotEncoder\n",
        "\n",
        "prep_email = [[w] for w in mail['subject'] + mail['body']]\n",
        "\n",
        "enc = OneHotEncoder(handle_unknown='ignore')\n",
        "X = enc.fit_transform(prep_email)\n",
        "\n",
        "print(\"Features:\\n\", enc.get_feature_names_out())\n",
        "print(\"\\nValues:\\n\", X.toarray())"
      ],
      "metadata": {
        "id": "b_CVPop1EPm_",
        "collapsed": true
      },
      "execution_count": null,
      "outputs": []
    },
    {
      "cell_type": "code",
      "source": [
        "def create_prep_dataset(index_path, n_elements):\n",
        "    X = []\n",
        "    y = []\n",
        "    indexes = parse_index(index_path, n_elements)\n",
        "    for i in range(n_elements):\n",
        "        print(\"\\rParsing email: {0}\".format(i+1), end='')\n",
        "        try:\n",
        "            mail, label = parse_email(indexes[i])\n",
        "            X.append(\" \".join(mail['subject']) + \" \".join(mail['body']))\n",
        "            y.append(label)\n",
        "        except:\n",
        "            pass\n",
        "    return X, y"
      ],
      "metadata": {
        "id": "IuwYpXuEElA6"
      },
      "execution_count": 145,
      "outputs": []
    },
    {
      "cell_type": "markdown",
      "source": [
        "# Entrenamiento del algoritmo"
      ],
      "metadata": {
        "id": "_Ma-TOILEoCQ"
      }
    },
    {
      "cell_type": "code",
      "source": [
        "# Leemos únicamente un subconjunto de 100 correos electrónicos\n",
        "X_train, y_train = create_prep_dataset(\"/content/data/index\",100)\n",
        "X_train"
      ],
      "metadata": {
        "id": "1AkqDehyEnnC",
        "collapsed": true
      },
      "execution_count": null,
      "outputs": []
    },
    {
      "cell_type": "code",
      "source": [
        "import numpy as np\n",
        "np.unique(y_train, return_counts=True)"
      ],
      "metadata": {
        "id": "K05W5H_nG1Yc",
        "collapsed": true
      },
      "execution_count": null,
      "outputs": []
    },
    {
      "cell_type": "markdown",
      "source": [
        "## Aplicamos vectorización a los datos"
      ],
      "metadata": {
        "id": "jtrdJ9DuE6Au"
      }
    },
    {
      "cell_type": "code",
      "source": [
        "vectorizer = CountVectorizer()\n",
        "X_train = vectorizer.fit_transform(X_train)"
      ],
      "metadata": {
        "id": "bW45jFXAE-g9"
      },
      "execution_count": 148,
      "outputs": []
    },
    {
      "cell_type": "code",
      "source": [
        "print(X_train.toarray())\n",
        "print(\"\\nFeatures:\", len(vectorizer.get_feature_names_out()))"
      ],
      "metadata": {
        "id": "DKWln0ByFJaL",
        "collapsed": true
      },
      "execution_count": null,
      "outputs": []
    },
    {
      "cell_type": "code",
      "source": [
        "import pandas as pd\n",
        "\n",
        "pd.DataFrame(X_train.toarray(), columns=[vectorizer.get_feature_names_out()])"
      ],
      "metadata": {
        "id": "K3XEHi6bFNgs",
        "collapsed": true
      },
      "execution_count": null,
      "outputs": []
    },
    {
      "cell_type": "code",
      "source": [
        "y_train"
      ],
      "metadata": {
        "id": "97g_9nFoFSMg",
        "collapsed": true
      },
      "execution_count": null,
      "outputs": []
    },
    {
      "cell_type": "code",
      "source": [
        "from sklearn.linear_model import LogisticRegression\n",
        "\n",
        "clf = LogisticRegression()\n",
        "clf.fit(X_train, y_train)"
      ],
      "metadata": {
        "id": "zv3ViBHMFVBF",
        "collapsed": true
      },
      "execution_count": null,
      "outputs": []
    },
    {
      "cell_type": "markdown",
      "source": [
        "# Predicción\n"
      ],
      "metadata": {
        "id": "2xgFYmfBKlVt"
      }
    },
    {
      "cell_type": "code",
      "source": [
        "# Leemos 150 correos de nuestro conjunto de datos y nos quedamos únicamente con los 50 últimos\n",
        "# Estos 50 correos electrónicos no se han utilizado para entrenar el algoritmo\n",
        "X, y = create_prep_dataset(\"datasets/trec07p/full/index\", 150)\n",
        "X_test = X[100:]\n",
        "y_test = y[100:]"
      ],
      "metadata": {
        "id": "p9wr12kFKnQY"
      },
      "execution_count": null,
      "outputs": []
    },
    {
      "cell_type": "code",
      "source": [
        "# procesamiento de los correos con el vectorizador creado anteriormente\n",
        "X_test = vectorizer.transform(X_test)"
      ],
      "metadata": {
        "id": "4cvzU21PK25t"
      },
      "execution_count": null,
      "outputs": []
    },
    {
      "cell_type": "code",
      "source": [
        "# predicción del tipo de correo\n",
        "y_pred = clf.predict(X_test)\n",
        "y_pred"
      ],
      "metadata": {
        "id": "SIMOmoc0K6OJ"
      },
      "execution_count": null,
      "outputs": []
    },
    {
      "cell_type": "code",
      "source": [
        "print(\"Predicción:\\n\", y_pred)\n",
        "print(\"\\nEtiquetas reales:\\n\", y_test)"
      ],
      "metadata": {
        "id": "9YCGC-mAK9UQ"
      },
      "execution_count": null,
      "outputs": []
    },
    {
      "cell_type": "code",
      "source": [
        "# valoración de los resultados\n",
        "from sklearn.metrics import accuracy_score\n",
        "\n",
        "print('Accuracy: {:.3f}'.format(accuracy_score(y_test, y_pred)))"
      ],
      "metadata": {
        "id": "MAEyaj_bLCRo"
      },
      "execution_count": null,
      "outputs": []
    },
    {
      "cell_type": "markdown",
      "source": [
        "# Incrementando el conjunto de datos"
      ],
      "metadata": {
        "id": "KtOgZFUcLWV2"
      }
    },
    {
      "cell_type": "code",
      "source": [
        "# Leemos 12000 correos electrónicos\n",
        "X, y = create_prep_dataset(\"datasets/trec07p/full/index\", 12000)"
      ],
      "metadata": {
        "id": "ZuW2BmVsLZI4"
      },
      "execution_count": null,
      "outputs": []
    },
    {
      "cell_type": "code",
      "source": [
        "# Utilizamos 10000 correos electrónicos para entrenar el algoritmo y 2000 para realizar pruebas\n",
        "X_train, y_train = X[:10000], y[:10000]\n",
        "X_test, y_test = X[10000:], y[10000:]"
      ],
      "metadata": {
        "id": "5DdzJBEXLeaA"
      },
      "execution_count": null,
      "outputs": []
    },
    {
      "cell_type": "code",
      "source": [
        "vectorizer = CountVectorizer()\n",
        "X_train = vectorizer.fit_transform(X_train)"
      ],
      "metadata": {
        "id": "jI2D7zrJLhJf"
      },
      "execution_count": null,
      "outputs": []
    },
    {
      "cell_type": "code",
      "source": [
        "clf = LogisticRegression()\n",
        "clf.fit(X_train, y_train)"
      ],
      "metadata": {
        "id": "g7bCuhMELh8D"
      },
      "execution_count": null,
      "outputs": []
    },
    {
      "cell_type": "code",
      "source": [
        "X_test = vectorizer.transform(X_test)"
      ],
      "metadata": {
        "id": "FIUQRq-rLlPF"
      },
      "execution_count": null,
      "outputs": []
    },
    {
      "cell_type": "code",
      "source": [
        "y_pred = clf.predict(X_test)"
      ],
      "metadata": {
        "id": "AJnFh3m_LnIr"
      },
      "execution_count": null,
      "outputs": []
    },
    {
      "cell_type": "code",
      "source": [
        "print('Accuracy: {:.3f}'.format(accuracy_score(y_test, y_pred)))"
      ],
      "metadata": {
        "id": "_WthT-whLm7o"
      },
      "execution_count": null,
      "outputs": []
    }
  ]
}