{
  "nbformat": 4,
  "nbformat_minor": 0,
  "metadata": {
    "colab": {
      "provenance": [],
      "authorship_tag": "ABX9TyPx/zaS2Ipuh5noQitfhUTu",
      "include_colab_link": true
    },
    "kernelspec": {
      "name": "python3",
      "display_name": "Python 3"
    },
    "language_info": {
      "name": "python"
    }
  },
  "cells": [
    {
      "cell_type": "markdown",
      "metadata": {
        "id": "view-in-github",
        "colab_type": "text"
      },
      "source": [
        "<a href=\"https://colab.research.google.com/github/YakiVS/Proyectos-pr-cticos---Machine-Learning/blob/main/Divisi%C3%B3n_de_un_conjunto_de_datos.ipynb\" target=\"_parent\"><img src=\"https://colab.research.google.com/assets/colab-badge.svg\" alt=\"Open In Colab\"/></a>"
      ]
    },
    {
      "cell_type": "markdown",
      "source": [
        "# División del conjunto de datos"
      ],
      "metadata": {
        "id": "yQj3wW8haumd"
      }
    },
    {
      "cell_type": "markdown",
      "source": [
        "## Lectura del conjunto de datos"
      ],
      "metadata": {
        "id": "tfncf-NQa2S_"
      }
    },
    {
      "cell_type": "code",
      "source": [
        "import arff\n",
        "import pandas as pd"
      ],
      "metadata": {
        "id": "EBtNaa0uaxPa"
      },
      "execution_count": null,
      "outputs": []
    },
    {
      "cell_type": "code",
      "source": [
        "def load_kdd_dataset(data_path):\n",
        "    \"\"\"Lectura del conjunto de datos NSL-KDD.\"\"\"\n",
        "    with open(data_path, 'r') as train_set:\n",
        "        dataset = arff.load(train_set)\n",
        "    attributes = [attr[0] for attr in dataset[\"attributes\"]]\n",
        "    return pd.DataFrame(dataset[\"data\"], columns=attributes)"
      ],
      "metadata": {
        "id": "3EiTW3Xja6-j"
      },
      "execution_count": null,
      "outputs": []
    },
    {
      "cell_type": "code",
      "source": [
        "df = load_kdd_dataset(\"datasets/NSL-KDD/KDDTrain+.arff\")"
      ],
      "metadata": {
        "id": "hdu_KPzUa9tE"
      },
      "execution_count": null,
      "outputs": []
    },
    {
      "cell_type": "code",
      "source": [
        "df.info()"
      ],
      "metadata": {
        "id": "fe8WF1--bBoA"
      },
      "execution_count": null,
      "outputs": []
    },
    {
      "cell_type": "markdown",
      "source": [
        "## División del conjunto de datos"
      ],
      "metadata": {
        "id": "rN1WOd9rbFAz"
      }
    },
    {
      "cell_type": "code",
      "source": [
        "# Separamos el conjunto de datos 60% train set, 40% test set\n",
        "from sklearn.model_selection import train_test_split\n",
        "\n",
        "train_set, test_set = train_test_split(df, test_size=0.4, random_state=42)"
      ],
      "metadata": {
        "id": "KZh1w91GbDR7"
      },
      "execution_count": null,
      "outputs": []
    },
    {
      "cell_type": "code",
      "source": [
        "train_set.info()"
      ],
      "metadata": {
        "id": "012br5tjbHoX"
      },
      "execution_count": null,
      "outputs": []
    },
    {
      "cell_type": "code",
      "source": [
        "test_set.info()"
      ],
      "metadata": {
        "id": "gMc9uSJVbPU1"
      },
      "execution_count": null,
      "outputs": []
    },
    {
      "cell_type": "code",
      "source": [
        "# Separamos el conjunto de datos de pruebas 50% validation set, 50% test set\n",
        "val_set, test_set = train_test_split(test_set, test_size=0.5, random_state=42)"
      ],
      "metadata": {
        "id": "tjytAxi1bR35"
      },
      "execution_count": null,
      "outputs": []
    },
    {
      "cell_type": "code",
      "source": [
        "print(\"Longitud del Training Set:\", len(train_set))\n",
        "print(\"Longitud del Validation Set:\", len(val_set))\n",
        "print(\"Longitud del Test Set:\", len(test_set))"
      ],
      "metadata": {
        "id": "pie0mUfsbTi3"
      },
      "execution_count": null,
      "outputs": []
    },
    {
      "cell_type": "markdown",
      "source": [
        "## Particionado aleatorio y Stratified Sampling"
      ],
      "metadata": {
        "id": "o5AwE_SJbVnZ"
      }
    },
    {
      "cell_type": "code",
      "source": [
        "# Si shuffle=False, el conjunto de datos no mezclará antes del particionado\n",
        "train_set, test_set = train_test_split(df, test_size=0.4, random_state=42, shuffle=False)"
      ],
      "metadata": {
        "id": "5Uaa3acpbX9j"
      },
      "execution_count": null,
      "outputs": []
    },
    {
      "cell_type": "code",
      "source": [
        "train_set, test_set = train_test_split(df, test_size=0.4, random_state=42, stratify=df[\"protocol_type\"])"
      ],
      "metadata": {
        "id": "epcN1KyBbbOO"
      },
      "execution_count": null,
      "outputs": []
    },
    {
      "cell_type": "markdown",
      "source": [
        "## Generación de una función de particionado"
      ],
      "metadata": {
        "id": "6YdlnTsMbdpX"
      }
    },
    {
      "cell_type": "code",
      "source": [
        "# Construcción de una función que realice el particionado completo\n",
        "def train_val_test_split(df, rstate=42, shuffle=True, stratify=None):\n",
        "    strat = df[stratify] if stratify else None\n",
        "    train_set, test_set = train_test_split(\n",
        "        df, test_size=0.4, random_state=rstate, shuffle=shuffle, stratify=strat)\n",
        "    strat = test_set[stratify] if stratify else None\n",
        "    val_set, test_set = train_test_split(\n",
        "        test_set, test_size=0.5, random_state=rstate, shuffle=shuffle, stratify=strat)\n",
        "    return (train_set, val_set, test_set)"
      ],
      "metadata": {
        "id": "TsMFDWKybgUo"
      },
      "execution_count": null,
      "outputs": []
    },
    {
      "cell_type": "code",
      "source": [
        "print(\"Longitud del conjunto de datos:\", len(df))"
      ],
      "metadata": {
        "id": "I2GelCs2bju3"
      },
      "execution_count": null,
      "outputs": []
    },
    {
      "cell_type": "code",
      "source": [
        "train_set, val_set, test_set = train_val_test_split(df, stratify='protocol_type')"
      ],
      "metadata": {
        "id": "hOq6KiH4blTt"
      },
      "execution_count": null,
      "outputs": []
    },
    {
      "cell_type": "code",
      "source": [
        "print(\"Longitud del Training Set:\", len(train_set))\n",
        "print(\"Longitud del Validation Set:\", len(val_set))\n",
        "print(\"Longitud del Test Set:\", len(test_set))"
      ],
      "metadata": {
        "id": "rYvAE5G0bm4G"
      },
      "execution_count": null,
      "outputs": []
    },
    {
      "cell_type": "code",
      "source": [
        "# Comprobación de que stratify mantiene la proporcion de la característica en los conjuntos\n",
        "%matplotlib inline\n",
        "import matplotlib.pyplot as plt\n",
        "df[\"protocol_type\"].hist()"
      ],
      "metadata": {
        "id": "qoRfIZ4Qboap"
      },
      "execution_count": null,
      "outputs": []
    },
    {
      "cell_type": "code",
      "source": [
        "train_set[\"protocol_type\"].hist()"
      ],
      "metadata": {
        "id": "ZbFX00aQbqJH"
      },
      "execution_count": null,
      "outputs": []
    },
    {
      "cell_type": "code",
      "source": [
        "val_set[\"protocol_type\"].hist()"
      ],
      "metadata": {
        "id": "Azhja9xTbsBi"
      },
      "execution_count": null,
      "outputs": []
    }
  ]
}